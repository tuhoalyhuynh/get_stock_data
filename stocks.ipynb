{
 "cells": [
  {
   "cell_type": "code",
   "execution_count": 31,
   "metadata": {},
   "outputs": [],
   "source": [
    "##### Imports #####\n",
    "from selenium import webdriver\n",
    "from selenium.webdriver.common.keys import Keys\n",
    "from selenium.webdriver.common.action_chains import ActionChains\n",
    "from bs4 import BeautifulSoup\n",
    "import datetime, re, requests, io, time, random, string\n",
    "from credentials import email, password"
   ]
  },
  {
   "cell_type": "code",
   "execution_count": 36,
   "metadata": {},
   "outputs": [],
   "source": [
    "driver = webdriver.Chrome('/Users/Tu Hoa/Downloads/chromedriver_win32 (1)/chromedriver')\n",
    "time.sleep(3)"
   ]
  },
  {
   "cell_type": "code",
   "execution_count": 38,
   "metadata": {},
   "outputs": [],
   "source": [
    "def sign_in(email=email, password=password):\n",
    "    driver.get('https://wallmine.com')\n",
    "    time.sleep(2)\n",
    "    driver.find_element_by_xpath('/html/body/main/header/div/ul/li[1]/ul/li[3]/a').click() # click sign in button\n",
    "    time.sleep(1)\n",
    "    driver.find_element_by_xpath('//*[@id=\"new_user\"]/div[5]/div[1]/div[2]/a').click() # click on sign in with password\n",
    "    time.sleep(1)\n",
    "    if \"We're glad you're back!\" in driver.page_source:\n",
    "        print('On sign in page')\n",
    "    # sign into website\n",
    "        driver.find_element_by_xpath('//*[@id=\"user_email\"]').send_keys(email)\n",
    "        driver.find_element_by_xpath('//*[@id=\"user_password\"]').send_keys(password)\n",
    "        time.sleep(0.1)\n",
    "        driver.find_element_by_xpath('//*[@id=\"new_user\"]/div[5]/div[2]/div[1]/button').click()\n",
    "        time.sleep(3)\n",
    "        if 'Stock market overview' in driver.page_source:\n",
    "            print('Sign-In Successful')\n",
    "    else:\n",
    "        print('start over app')"
   ]
  },
  {
   "cell_type": "code",
   "execution_count": 39,
   "metadata": {},
   "outputs": [
    {
     "output_type": "stream",
     "name": "stdout",
     "text": [
      "On sign in page\n",
      "Sign-In Successful\n"
     ]
    }
   ],
   "source": [
    "sign_in(email, password)"
   ]
  },
  {
   "cell_type": "code",
   "execution_count": null,
   "metadata": {},
   "outputs": [],
   "source": []
  }
 ],
 "metadata": {
  "kernelspec": {
   "display_name": "Python 3",
   "language": "python",
   "name": "python3"
  },
  "language_info": {
   "codemirror_mode": {
    "name": "ipython",
    "version": 3
   },
   "file_extension": ".py",
   "mimetype": "text/x-python",
   "name": "python",
   "nbconvert_exporter": "python",
   "pygments_lexer": "ipython3",
   "version": "3.9.1-final"
  }
 },
 "nbformat": 4,
 "nbformat_minor": 4
}